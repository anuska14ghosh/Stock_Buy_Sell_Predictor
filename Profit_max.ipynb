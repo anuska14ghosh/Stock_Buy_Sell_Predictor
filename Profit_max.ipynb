{
  "nbformat": 4,
  "nbformat_minor": 0,
  "metadata": {
    "colab": {
      "provenance": [],
      "authorship_tag": "ABX9TyOGs5XhbIMonzayid9DZ0ij",
      "include_colab_link": true
    },
    "kernelspec": {
      "name": "python3",
      "display_name": "Python 3"
    },
    "language_info": {
      "name": "python"
    }
  },
  "cells": [
    {
      "cell_type": "markdown",
      "metadata": {
        "id": "view-in-github",
        "colab_type": "text"
      },
      "source": [
        "<a href=\"https://colab.research.google.com/github/anuska14ghosh/Stock_Buy_Sell_Predictor/blob/main/Profit_max.ipynb\" target=\"_parent\"><img src=\"https://colab.research.google.com/assets/colab-badge.svg\" alt=\"Open In Colab\"/></a>"
      ]
    },
    {
      "cell_type": "code",
      "execution_count": null,
      "metadata": {
        "colab": {
          "base_uri": "https://localhost:8080/"
        },
        "id": "rzomLa4b3Kpt",
        "outputId": "278f838d-736f-4761-b72f-6a5058d4aae2"
      },
      "outputs": [
        {
          "output_type": "stream",
          "name": "stdout",
          "text": [
            "         Date      Symbol Series  Prev Close    Open     High    Low   Last  \\\n",
            "0  2007-11-27  MUNDRAPORT     EQ      440.00  770.00  1050.00  770.0  959.0   \n",
            "1  2007-11-28  MUNDRAPORT     EQ      962.90  984.00   990.00  874.0  885.0   \n",
            "2  2007-11-29  MUNDRAPORT     EQ      893.90  909.00   914.75  841.0  887.0   \n",
            "3  2007-11-30  MUNDRAPORT     EQ      884.20  890.00   958.00  890.0  929.0   \n",
            "4  2007-12-03  MUNDRAPORT     EQ      921.55  939.75   995.00  922.0  980.0   \n",
            "\n",
            "    Close    VWAP    Volume      Turnover  Trades  Deliverable Volume  \\\n",
            "0  962.90  984.72  27294366  2.687719e+15     NaN           9859619.0   \n",
            "1  893.90  941.38   4581338  4.312765e+14     NaN           1453278.0   \n",
            "2  884.20  888.09   5124121  4.550658e+14     NaN           1069678.0   \n",
            "3  921.55  929.17   4609762  4.283257e+14     NaN           1260913.0   \n",
            "4  969.30  965.65   2977470  2.875200e+14     NaN            816123.0   \n",
            "\n",
            "   %Deliverble  \n",
            "0       0.3612  \n",
            "1       0.3172  \n",
            "2       0.2088  \n",
            "3       0.2735  \n",
            "4       0.2741  \n"
          ]
        }
      ],
      "source": [
        "import pandas as pd\n",
        "import numpy as np\n",
        "from sklearn.model_selection import train_test_split\n",
        "from sklearn.preprocessing import StandardScaler\n",
        "\n",
        "# Load the dataset\n",
        "data = pd.read_csv('/content/NIFTY50_all.csv')\n",
        "\n",
        "# Display the first few rows of the data\n",
        "print(data.head())\n",
        "\n",
        "# Assuming the dataset has columns: 'Open', 'High', 'Low', 'LTP', 'Volume (lacs)', 'Turnover (crs.)', 'Close'\n",
        "# Creating a new column 'Change' to indicate price change\n",
        "data['Change'] = data['Close'].diff()\n",
        "\n",
        "# Dropping rows with NaN values\n",
        "data = data.dropna()\n",
        "\n",
        "# Creating a target variable 'Buy' (1 if price is expected to go up, 0 otherwise)\n",
        "data['Buy'] = (data['Change'] > 0).astype(int)\n",
        "\n",
        "# Selecting features\n",
        "features = ['Open', 'High', 'Low', 'Last', 'Volume', 'Turnover']\n",
        "X = data[features]\n",
        "y = data['Buy']\n",
        "\n",
        "# Splitting the data into training and testing sets (50/50 ratio)\n",
        "X_train, X_test, y_train, y_test = train_test_split(X, y, test_size=0.5, random_state=42)\n",
        "\n",
        "# Scaling the features\n",
        "scaler = StandardScaler()\n",
        "X_train = scaler.fit_transform(X_train)\n",
        "X_test = scaler.transform(X_test)\n"
      ]
    },
    {
      "cell_type": "markdown",
      "source": [
        "### **Model Training**\n",
        "\n",
        "using ***RandomForestClassifier***"
      ],
      "metadata": {
        "id": "DDu9-Rq2774o"
      }
    },
    {
      "cell_type": "code",
      "source": [
        "from sklearn.ensemble import RandomForestClassifier\n",
        "from sklearn.metrics import classification_report, accuracy_score\n",
        "\n",
        "# Initializing the model\n",
        "model = RandomForestClassifier(n_estimators=100, random_state=42)\n",
        "\n",
        "# Training the model\n",
        "model.fit(X_train, y_train)\n",
        "\n",
        "# Making predictions\n",
        "y_pred = model.predict(X_test)\n",
        "\n",
        "# Evaluating the model\n",
        "print(f'Accuracy: {accuracy_score(y_test, y_pred)}')\n",
        "print(classification_report(y_test, y_pred))\n"
      ],
      "metadata": {
        "colab": {
          "base_uri": "https://localhost:8080/"
        },
        "id": "Eyy-FEbn8JBa",
        "outputId": "fccae7e6-f9c9-4e1b-92a5-28ba76153336"
      },
      "execution_count": null,
      "outputs": [
        {
          "output_type": "stream",
          "name": "stdout",
          "text": [
            "Accuracy: 0.7803463404905936\n",
            "              precision    recall  f1-score   support\n",
            "\n",
            "           0       0.78      0.78      0.78     29765\n",
            "           1       0.78      0.78      0.78     30407\n",
            "\n",
            "    accuracy                           0.78     60172\n",
            "   macro avg       0.78      0.78      0.78     60172\n",
            "weighted avg       0.78      0.78      0.78     60172\n",
            "\n"
          ]
        }
      ]
    },
    {
      "cell_type": "markdown",
      "source": [
        "### **Buy/Sell Strategy**\n",
        "Implementing a basic buy/sell strategy based on model predictions."
      ],
      "metadata": {
        "id": "wv8wBE048in8"
      }
    },
    {
      "cell_type": "code",
      "source": [
        "# Adding predictions to the test set\n",
        "X_test_df = pd.DataFrame(X_test, columns=features)\n",
        "X_test_df['Buy_Pred'] = y_pred\n",
        "\n",
        "# Resetting the index of y_test to align with X_test_df\n",
        "y_test = y_test.reset_index(drop=True)\n",
        "\n",
        "# Extract corresponding 'Close' values using the reset indices\n",
        "X_test_df['Close'] = data.iloc[y_test.index]['Close'].values\n",
        "\n",
        "# Implementing the strategy\n",
        "initial_balance = 100000  # Starting with $100,000\n",
        "balance = initial_balance\n",
        "stock_holdings = 0\n",
        "profit = 0\n",
        "\n",
        "for i in range(len(X_test_df)):\n",
        "    if X_test_df.iloc[i]['Buy_Pred'] == 1 and balance > X_test_df.iloc[i]['Close']:\n",
        "        # Buy stock\n",
        "        stock_holdings += balance // X_test_df.iloc[i]['Close']\n",
        "        balance %= X_test_df.iloc[i]['Close']\n",
        "    elif X_test_df.iloc[i]['Buy_Pred'] == 0 and stock_holdings > 0:\n",
        "        # Sell stock\n",
        "        balance += stock_holdings * X_test_df.iloc[i]['Close']\n",
        "        stock_holdings = 0\n",
        "\n",
        "# Calculate final balance\n",
        "final_balance = balance + (stock_holdings * X_test_df.iloc[-1]['Close'])\n",
        "profit = final_balance - initial_balance\n",
        "\n",
        "print(f'Initial Balance: ${initial_balance}')\n",
        "print(f'Final Balance: ${final_balance}')\n",
        "print(f'Total Profit: ${profit}')\n"
      ],
      "metadata": {
        "colab": {
          "base_uri": "https://localhost:8080/"
        },
        "id": "u7YEhNaX8ugV",
        "outputId": "3bfbcd65-387d-495c-8046-8bef3620d703"
      },
      "execution_count": null,
      "outputs": [
        {
          "output_type": "stream",
          "name": "stdout",
          "text": [
            "Initial Balance: $100000\n",
            "Final Balance: $11614971.450000027\n",
            "Total Profit: $11514971.450000027\n"
          ]
        }
      ]
    },
    {
      "cell_type": "code",
      "source": [
        "# Load new data to predict (assuming same structure as original data)\n",
        "new_data = pd.read_csv('/content/WIPRO.csv')\n",
        "\n",
        "# Predict on new data and evaluate profit\n",
        "predicted_data = predict_and_evaluate_profit(new_data, model, features)\n",
        "\n",
        "# Save the predictions to a CSV file\n",
        "predicted_data.to_csv('predicted_data_with_evaluation.csv', index=False)\n",
        "print(\"Predictions with evaluation saved to 'predicted_data_with_evaluation.csv'\")\n",
        "\n",
        "print(predicted_data[['Date', 'Close', 'Prediction', 'Recommendation', 'Actual_Next_Day_Movement', 'Correct_Prediction']])"
      ],
      "metadata": {
        "colab": {
          "base_uri": "https://localhost:8080/"
        },
        "id": "KNhFrOGiT0HT",
        "outputId": "6530709f-8afd-4dbc-a774-89bb3fa64286"
      },
      "execution_count": null,
      "outputs": [
        {
          "output_type": "stream",
          "name": "stdout",
          "text": [
            "Initial Balance: $100000\n",
            "Final Balance: $100000.0\n",
            "Total Profit: $0.0\n",
            "Predictions with evaluation saved to 'predicted_data_with_evaluation.csv'\n",
            "            Date   Close  Prediction Recommendation Actual_Next_Day_Movement  \\\n",
            "2850  2011-06-01  448.30           0        Not Buy                  Not Buy   \n",
            "2851  2011-06-02  442.95           1        Not Buy                      Buy   \n",
            "2852  2011-06-03  443.10           1        Not Buy                      Buy   \n",
            "2853  2011-06-06  445.05           0        Not Buy                  Not Buy   \n",
            "2854  2011-06-07  440.60           1        Not Buy                      Buy   \n",
            "...          ...     ...         ...            ...                      ...   \n",
            "5301  2021-04-26  480.30           0        Not Buy                      Buy   \n",
            "5302  2021-04-27  485.05           0        Not Buy                      Buy   \n",
            "5303  2021-04-28  489.30           0        Not Buy                      Buy   \n",
            "5304  2021-04-29  489.85           0        Not Buy                      Buy   \n",
            "5305  2021-04-30  492.75           0        Not Buy                  Not Buy   \n",
            "\n",
            "     Correct_Prediction  \n",
            "2850            Correct  \n",
            "2851              Wrong  \n",
            "2852              Wrong  \n",
            "2853            Correct  \n",
            "2854              Wrong  \n",
            "...                 ...  \n",
            "5301              Wrong  \n",
            "5302              Wrong  \n",
            "5303              Wrong  \n",
            "5304              Wrong  \n",
            "5305            Correct  \n",
            "\n",
            "[2456 rows x 6 columns]\n"
          ]
        }
      ]
    }
  ]
}