{
  "nbformat": 4,
  "nbformat_minor": 0,
  "metadata": {
    "colab": {
      "provenance": [],
      "authorship_tag": "ABX9TyPX570BCqGvEL1o5wzA14d6",
      "include_colab_link": true
    },
    "kernelspec": {
      "name": "python3",
      "display_name": "Python 3"
    },
    "language_info": {
      "name": "python"
    }
  },
  "cells": [
    {
      "cell_type": "markdown",
      "metadata": {
        "id": "view-in-github",
        "colab_type": "text"
      },
      "source": [
        "<a href=\"https://colab.research.google.com/github/anuska14ghosh/Stock_Buy_Sell_Predictor/blob/main/Buy_Sell_Prediction.ipynb\" target=\"_parent\"><img src=\"https://colab.research.google.com/assets/colab-badge.svg\" alt=\"Open In Colab\"/></a>"
      ]
    },
    {
      "cell_type": "code",
      "execution_count": null,
      "metadata": {
        "colab": {
          "base_uri": "https://localhost:8080/"
        },
        "id": "vbi5ewYBBx-W",
        "outputId": "ca52f0e6-5425-4560-89b0-32238b5c4404"
      },
      "outputs": [
        {
          "output_type": "stream",
          "name": "stdout",
          "text": [
            "Requirement already satisfied: pandas in /usr/local/lib/python3.10/dist-packages (2.0.3)\n",
            "Requirement already satisfied: numpy in /usr/local/lib/python3.10/dist-packages (1.25.2)\n",
            "Requirement already satisfied: scikit-learn in /usr/local/lib/python3.10/dist-packages (1.2.2)\n",
            "Collecting ta\n",
            "  Downloading ta-0.11.0.tar.gz (25 kB)\n",
            "  Preparing metadata (setup.py) ... \u001b[?25l\u001b[?25hdone\n",
            "Requirement already satisfied: python-dateutil>=2.8.2 in /usr/local/lib/python3.10/dist-packages (from pandas) (2.8.2)\n",
            "Requirement already satisfied: pytz>=2020.1 in /usr/local/lib/python3.10/dist-packages (from pandas) (2023.4)\n",
            "Requirement already satisfied: tzdata>=2022.1 in /usr/local/lib/python3.10/dist-packages (from pandas) (2024.1)\n",
            "Requirement already satisfied: scipy>=1.3.2 in /usr/local/lib/python3.10/dist-packages (from scikit-learn) (1.11.4)\n",
            "Requirement already satisfied: joblib>=1.1.1 in /usr/local/lib/python3.10/dist-packages (from scikit-learn) (1.4.2)\n",
            "Requirement already satisfied: threadpoolctl>=2.0.0 in /usr/local/lib/python3.10/dist-packages (from scikit-learn) (3.5.0)\n",
            "Requirement already satisfied: six>=1.5 in /usr/local/lib/python3.10/dist-packages (from python-dateutil>=2.8.2->pandas) (1.16.0)\n",
            "Building wheels for collected packages: ta\n",
            "  Building wheel for ta (setup.py) ... \u001b[?25l\u001b[?25hdone\n",
            "  Created wheel for ta: filename=ta-0.11.0-py3-none-any.whl size=29411 sha256=fa508927a6369473dabd44d9984952ecebe1fb2a932f1efe832f443caf76742a\n",
            "  Stored in directory: /root/.cache/pip/wheels/5f/67/4f/8a9f252836e053e532c6587a3230bc72a4deb16b03a829610b\n",
            "Successfully built ta\n",
            "Installing collected packages: ta\n",
            "Successfully installed ta-0.11.0\n"
          ]
        }
      ],
      "source": [
        "pip install pandas numpy scikit-learn ta\n"
      ]
    },
    {
      "cell_type": "markdown",
      "source": [
        "The ta library provides technical analysis indicators used for financial time series data. It includes a wide range of tools for calculating moving averages, momentum indicators, volume indicators, and more."
      ],
      "metadata": {
        "id": "XwPMfLwNHUKs"
      }
    },
    {
      "cell_type": "code",
      "source": [
        "import pandas as pd\n",
        "import numpy as np\n",
        "from sklearn.model_selection import train_test_split\n",
        "from sklearn.linear_model import LogisticRegression\n",
        "from sklearn.metrics import classification_report, accuracy_score\n",
        "import ta\n",
        "\n",
        "# Load your dataset\n",
        "# Assume 'data.csv' contains columns 'Date', 'Open', 'High', 'Low', 'Close', 'Volume'\n",
        "df = [pd.read_csv('/content/TATAMOTORS.csv'), ]\n",
        "\n",
        "# Calculate technical indicators\n",
        "df['EMA_10'] = ta.trend.ema_indicator(close=df['Close'], window=10)\n",
        "df['EMA_30'] = ta.trend.ema_indicator(close=df['Close'], window=30)\n",
        "df['RSI'] = ta.momentum.rsi(close=df['Close'], window=14)\n",
        "\n",
        "# Drop rows with NaN values (due to indicator calculation)\n",
        "df.dropna(inplace=True)\n",
        "\n",
        "# Define the buy signal based on EMA crossover and RSI condition\n",
        "# Buy if EMA_10 crosses above EMA_30 and RSI is below 30\n",
        "df['Buy_Signal'] = np.where((df['EMA_10'] > df['EMA_30']) & (df['EMA_10'].shift(1) <= df['EMA_30'].shift(1)) & (df['RSI'] < 40), 1, 0)\n",
        "\n",
        "# Define target variable: 1 if next day's close price is higher, 0 otherwise\n",
        "df['Target'] = np.where(df['Close'].shift(-1) > df['Close'], 1, 0)\n",
        "\n",
        "# Select features and target\n",
        "features = ['EMA_10', 'EMA_30', 'RSI']\n",
        "X = df[features]\n",
        "y = df['Target']\n",
        "\n",
        "# Split the data into training and testing sets (50-50 split)\n",
        "X_train, X_test, y_train, y_test = train_test_split(X, y, test_size=0.5, random_state=42)\n",
        "\n",
        "# Initialize and train the model\n",
        "model = LogisticRegression()\n",
        "model.fit(X_train, y_train)\n",
        "\n",
        "# Make predictions on the test set\n",
        "y_pred = model.predict(X_test)\n",
        "\n",
        "# Evaluate the model\n",
        "accuracy = accuracy_score(y_test, y_pred)\n",
        "report = classification_report(y_test, y_pred)\n",
        "\n",
        "print(f'Accuracy: {accuracy}')\n",
        "print('Classification Report:')\n",
        "print(report)\n",
        "\n",
        "# Example function to predict new data\n",
        "def predict_new_data(new_data):\n",
        "    # Calculate technical indicators for new data\n",
        "    new_data['EMA_10'] = ta.trend.ema_indicator(close=new_data['Close'], window=10)\n",
        "    new_data['EMA_30'] = ta.trend.ema_indicator(close=new_data['Close'], window=30)\n",
        "    new_data['RSI'] = ta.momentum.rsi(close=new_data['Close'], window=14)\n",
        "\n",
        "    # Drop rows with NaN values (due to indicator calculation)\n",
        "    new_data.dropna(inplace=True)\n",
        "\n",
        "    # Select features\n",
        "    X_new = new_data[features]\n",
        "\n",
        "    # Make predictions\n",
        "    new_data['Prediction'] = model.predict(X_new)\n",
        "\n",
        "    # Map predictions to 'Buy' or 'Not Buy'\n",
        "    new_data['Recommendation'] = np.where((new_data['EMA_10'] > new_data['EMA_30']) & (new_data['EMA_10'].shift(1) <= new_data['EMA_30'].shift(1)) & (new_data['RSI'] < 40), 'Buy', 'Not Buy')\n",
        "\n",
        "    return new_data\n",
        "\n",
        "# Load new data to predict (assuming same structure as original data)\n",
        "new_data = pd.read_csv('/content/TATASTEEL.csv')\n",
        "\n",
        "# Predict on new data\n",
        "predicted_data = predict_new_data(new_data)\n",
        "\n",
        "# Save the predictions to a CSV file\n",
        "predicted_data.to_csv('predicted_data.csv', index=False)\n",
        "print(\"Predictions saved to 'predicted_data.csv'\")\n",
        "\n",
        "print(predicted_data[['Date', 'Close', 'Prediction', 'Recommendation']])\n"
      ],
      "metadata": {
        "colab": {
          "base_uri": "https://localhost:8080/"
        },
        "id": "jtVUFdjhIH1o",
        "outputId": "bc9f7839-d9ac-4b0b-f9ec-2124eb8c1f6d"
      },
      "execution_count": null,
      "outputs": [
        {
          "output_type": "stream",
          "name": "stdout",
          "text": [
            "Accuracy: 0.510586319218241\n",
            "Classification Report:\n",
            "              precision    recall  f1-score   support\n",
            "\n",
            "           0       0.57      0.32      0.41       650\n",
            "           1       0.49      0.73      0.58       578\n",
            "\n",
            "    accuracy                           0.51      1228\n",
            "   macro avg       0.53      0.52      0.50      1228\n",
            "weighted avg       0.53      0.51      0.49      1228\n",
            "\n",
            "Predictions saved to 'predicted_data.csv'\n",
            "            Date    Close  Prediction Recommendation\n",
            "2850  2011-06-01   582.30           0        Not Buy\n",
            "2851  2011-06-02   574.90           0        Not Buy\n",
            "2852  2011-06-03   573.25           0        Not Buy\n",
            "2853  2011-06-06   567.90           0        Not Buy\n",
            "2854  2011-06-07   577.95           0        Not Buy\n",
            "...          ...      ...         ...            ...\n",
            "5301  2021-04-26   940.75           0        Not Buy\n",
            "5302  2021-04-27   977.75           0        Not Buy\n",
            "5303  2021-04-28   971.40           0        Not Buy\n",
            "5304  2021-04-29  1031.35           0        Not Buy\n",
            "5305  2021-04-30  1034.00           0        Not Buy\n",
            "\n",
            "[2456 rows x 4 columns]\n"
          ]
        }
      ]
    },
    {
      "cell_type": "code",
      "source": [
        "import pandas as pd\n",
        "import numpy as np\n",
        "import ta\n",
        "from sklearn.model_selection import train_test_split\n",
        "from sklearn.linear_model import LogisticRegression\n",
        "from sklearn.metrics import classification_report, accuracy_score\n",
        "\n",
        "# Load your dataset\n",
        "# Assume 'data.csv' contains columns 'Date', 'Open', 'High', 'Low', 'Close', 'Volume'\n",
        "df = pd.read_csv('/content/NIFTY50_all.csv')\n",
        "\n",
        "# Calculate technical indicators\n",
        "df['EMA_10'] = ta.trend.ema_indicator(close=df['Close'], window=10)\n",
        "df['EMA_30'] = ta.trend.ema_indicator(close=df['Close'], window=30)\n",
        "df['RSI'] = ta.momentum.rsi(close=df['Close'], window=14)\n",
        "\n",
        "# Drop rows with NaN values (due to indicator calculation)\n",
        "df.dropna(inplace=True)\n",
        "\n",
        "# Define the buy signal based on EMA crossover and RSI condition\n",
        "# Buy if EMA_10 crosses above EMA_30 and RSI is below 40\n",
        "df['Buy_Signal'] = np.where((df['EMA_10'] > df['EMA_30']) & (df['EMA_10'].shift(1) <= df['EMA_30'].shift(1)) & (df['RSI'] < 40), 1, 0)\n",
        "\n",
        "# Define target variable: 1 if next day's close price is higher, 0 otherwise\n",
        "df['Target'] = np.where(df['Close'].shift(-1) > df['Close'], 1, 0)\n",
        "\n",
        "# Select features and target\n",
        "features = ['EMA_10', 'EMA_30', 'RSI']\n",
        "X = df[features]\n",
        "y = df['Target']\n",
        "\n",
        "# Split the data into training and testing sets (50-50 split)\n",
        "X_train, X_test, y_train, y_test = train_test_split(X, y, test_size=0.5, random_state=42)\n",
        "\n",
        "# Initialize and train the model\n",
        "model = LogisticRegression()\n",
        "model.fit(X_train, y_train)\n",
        "\n",
        "# Make predictions on the test set\n",
        "y_pred = model.predict(X_test)\n",
        "\n",
        "# Evaluate the model\n",
        "accuracy = accuracy_score(y_test, y_pred)\n",
        "report = classification_report(y_test, y_pred)\n",
        "\n",
        "print(f'Accuracy: {accuracy}')\n",
        "print('Classification Report:')\n",
        "print(report)\n",
        "\n",
        "# Example function to predict new data\n",
        "def predict_new_data(new_data):\n",
        "    # Calculate technical indicators for new data\n",
        "    new_data['EMA_10'] = ta.trend.ema_indicator(close=new_data['Close'], window=10)\n",
        "    new_data['EMA_30'] = ta.trend.ema_indicator(close=new_data['Close'], window=30)\n",
        "    new_data['RSI'] = ta.momentum.rsi(close=new_data['Close'], window=14)\n",
        "\n",
        "    # Drop rows with NaN values (due to indicator calculation)\n",
        "    new_data.dropna(inplace=True)\n",
        "\n",
        "    # Select features\n",
        "    X_new = new_data[features]\n",
        "\n",
        "    # Make predictions\n",
        "    new_data['Prediction'] = model.predict(X_new)\n",
        "\n",
        "    # Map predictions to 'Buy' or 'Not Buy'\n",
        "    new_data['Recommendation'] = np.where((new_data['EMA_10'] > new_data['EMA_30']) & (new_data['EMA_10'].shift(1) <= new_data['EMA_30'].shift(1)) & (new_data['RSI'] < 40), 'Buy', 'Not Buy')\n",
        "\n",
        "    return new_data\n",
        "\n",
        "# Load new data to predict (assuming same structure as original data)\n",
        "new_data = pd.read_csv('/content/TITAN.csv')\n",
        "\n",
        "# Predict on new data\n",
        "predicted_data = predict_new_data(new_data)\n",
        "\n",
        "# Add actual next day movement for comparison\n",
        "predicted_data['Actual_Next_Day_Movement'] = np.where(predicted_data['Close'].shift(-1) > predicted_data['Close'], 'Buy', 'Not Buy')\n",
        "\n",
        "# Compare prediction with actual movement\n",
        "predicted_data['Correct_Prediction'] = np.where(predicted_data['Recommendation'] == predicted_data['Actual_Next_Day_Movement'], 'Correct', 'Wrong')\n",
        "\n",
        "# Save the predictions to a CSV file\n",
        "predicted_data.to_csv('predicted_data_with_evaluation.csv', index=False)\n",
        "print(\"Predictions with evaluation saved to 'predicted_data_with_evaluation.csv'\")\n",
        "\n",
        "print(predicted_data[['Date', 'Close', 'Prediction', 'Recommendation', 'Actual_Next_Day_Movement', 'Correct_Prediction']])\n"
      ],
      "metadata": {
        "colab": {
          "base_uri": "https://localhost:8080/"
        },
        "id": "IoCDNRdKunlq",
        "outputId": "2ec2c335-3f4e-487a-8be5-90d4f83cc41e"
      },
      "execution_count": null,
      "outputs": [
        {
          "output_type": "stream",
          "name": "stdout",
          "text": [
            "Accuracy: 0.5083427507810941\n",
            "Classification Report:\n",
            "              precision    recall  f1-score   support\n",
            "\n",
            "           0       0.53      0.01      0.01     29610\n",
            "           1       0.51      0.99      0.67     30562\n",
            "\n",
            "    accuracy                           0.51     60172\n",
            "   macro avg       0.52      0.50      0.34     60172\n",
            "weighted avg       0.52      0.51      0.35     60172\n",
            "\n",
            "Predictions with evaluation saved to 'predicted_data_with_evaluation.csv'\n",
            "            Date    Close  Prediction Recommendation Actual_Next_Day_Movement  \\\n",
            "2850  2011-06-01  4309.55           1        Not Buy                      Buy   \n",
            "2851  2011-06-02  4312.05           1        Not Buy                      Buy   \n",
            "2852  2011-06-03  4332.10           1        Not Buy                      Buy   \n",
            "2853  2011-06-06  4368.85           1        Not Buy                      Buy   \n",
            "2854  2011-06-07  4378.90           1        Not Buy                      Buy   \n",
            "...          ...      ...         ...            ...                      ...   \n",
            "5301  2021-04-26  1479.85           1        Not Buy                      Buy   \n",
            "5302  2021-04-27  1495.10           1        Not Buy                      Buy   \n",
            "5303  2021-04-28  1508.85           1        Not Buy                  Not Buy   \n",
            "5304  2021-04-29  1506.80           1        Not Buy                  Not Buy   \n",
            "5305  2021-04-30  1491.65           1        Not Buy                  Not Buy   \n",
            "\n",
            "     Correct_Prediction  \n",
            "2850              Wrong  \n",
            "2851              Wrong  \n",
            "2852              Wrong  \n",
            "2853              Wrong  \n",
            "2854              Wrong  \n",
            "...                 ...  \n",
            "5301              Wrong  \n",
            "5302              Wrong  \n",
            "5303            Correct  \n",
            "5304            Correct  \n",
            "5305            Correct  \n",
            "\n",
            "[2456 rows x 6 columns]\n"
          ]
        }
      ]
    },
    {
      "cell_type": "code",
      "source": [
        "import pandas as pd\n",
        "\n",
        "# Load the predicted data with evaluation\n",
        "predicted_data = pd.read_csv('/content/predicted_data_with_evaluation.csv')\n",
        "\n",
        "# Count the number of correct and wrong predictions\n",
        "correct_predictions = predicted_data['Correct_Prediction'].value_counts().get('Correct', 0)\n",
        "wrong_predictions = predicted_data['Correct_Prediction'].value_counts().get('Wrong', 0)\n",
        "\n",
        "print(f'Number of Correct Predictions: {correct_predictions}')\n",
        "print(f'Number of Wrong Predictions: {wrong_predictions}')\n"
      ],
      "metadata": {
        "colab": {
          "base_uri": "https://localhost:8080/"
        },
        "id": "t75PAx6jvyP6",
        "outputId": "c620cfe0-915a-487e-c5db-6b4f3c36e5c6"
      },
      "execution_count": null,
      "outputs": [
        {
          "output_type": "stream",
          "name": "stdout",
          "text": [
            "Number of Correct Predictions: 1185\n",
            "Number of Wrong Predictions: 1271\n"
          ]
        }
      ]
    },
    {
      "cell_type": "code",
      "source": [
        "from sklearn.model_selection import cross_val_score\n",
        "\n",
        "# Evaluate the model using cross-validation\n",
        "cv_scores = cross_val_score(LogisticRegression(), X, y, cv=10, scoring='accuracy')\n",
        "\n",
        "print(f'Cross-Validation Accuracy: {cv_scores.mean()}')\n"
      ],
      "metadata": {
        "colab": {
          "base_uri": "https://localhost:8080/"
        },
        "id": "9UrAr2qixk21",
        "outputId": "2e69a92c-1a25-4706-92a5-71c2153f1a31"
      },
      "execution_count": null,
      "outputs": [
        {
          "output_type": "stream",
          "name": "stdout",
          "text": [
            "Cross-Validation Accuracy: 0.5056836919408304\n"
          ]
        }
      ]
    },
    {
      "cell_type": "code",
      "source": [
        "# Calculate MACD\n",
        "df['MACD'] = ta.trend.macd(close=df['Close'])\n",
        "df['MACD_Signal'] = ta.trend.macd_signal(close=df['Close'])\n",
        "\n",
        "# Calculate Stochastic Oscillator\n",
        "df['Stoch_K'] = ta.momentum.stoch(high=df['High'], low=df['Low'], close=df['Close'])\n",
        "df['Stoch_D'] = ta.momentum.stoch_signal(high=df['High'], low=df['Low'], close=df['Close'])\n",
        "\n",
        "# Calculate Bollinger Bands\n",
        "bb = ta.volatility.BollingerBands(close=df['Close'])\n",
        "df['BB_High'] = bb.bollinger_hband()\n",
        "df['BB_Low'] = bb.bollinger_lband()\n",
        "\n",
        "# Drop rows with NaN values (due to indicator calculation)\n",
        "df.dropna(inplace=True)\n",
        "\n",
        "# Define the target variable\n",
        "df['Target'] = np.where(df['Close'].shift(-1) > df['Close'], 1, 0)\n",
        "\n",
        "# Select features\n",
        "features = ['EMA_10', 'EMA_30', 'RSI', 'MACD', 'MACD_Signal', 'Stoch_K', 'Stoch_D', 'BB_High', 'BB_Low']\n",
        "X = df[features]\n",
        "y = df['Target']\n",
        "\n",
        "# Split the data\n",
        "X_train, X_test, y_train, y_test = train_test_split(X, y, test_size=0.5, random_state=42)\n",
        "\n",
        "# Initialize and train the model\n",
        "model = LogisticRegression()\n",
        "model.fit(X_train, y_train)\n",
        "\n",
        "# Make predictions on the test set\n",
        "y_pred = model.predict(X_test)\n",
        "\n",
        "# Evaluate the model\n",
        "accuracy = accuracy_score(y_test, y_pred)\n",
        "report = classification_report(y_test, y_pred)\n",
        "\n",
        "print(f'Accuracy: {accuracy}')\n",
        "print('Classification Report:')\n",
        "print(report)\n"
      ],
      "metadata": {
        "id": "O1ff-UhLxva2",
        "outputId": "b39f728a-518e-44e2-ab0c-1521672fd627",
        "colab": {
          "base_uri": "https://localhost:8080/"
        }
      },
      "execution_count": null,
      "outputs": [
        {
          "output_type": "stream",
          "name": "stdout",
          "text": [
            "Accuracy: 0.5082784759624975\n",
            "Classification Report:\n",
            "              precision    recall  f1-score   support\n",
            "\n",
            "           0       0.51      0.30      0.38     29765\n",
            "           1       0.51      0.71      0.59     30391\n",
            "\n",
            "    accuracy                           0.51     60156\n",
            "   macro avg       0.51      0.51      0.49     60156\n",
            "weighted avg       0.51      0.51      0.49     60156\n",
            "\n"
          ]
        }
      ]
    }
  ]
}